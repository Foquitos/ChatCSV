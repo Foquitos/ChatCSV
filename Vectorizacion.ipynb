{
 "cells": [
  {
   "cell_type": "code",
   "execution_count": 34,
   "metadata": {},
   "outputs": [],
   "source": [
    "from llama_index.core import Settings\n",
    "from llama_index.core.response.notebook_utils import display_response\n",
    "from llama_index.llms.ollama import Ollama\n",
    "from llama_index.embeddings.huggingface import HuggingFaceEmbedding\n",
    "from llama_index.core.service_context import ServiceContext\n",
    "from llama_index.core.prompts import PromptTemplate\n",
    "import os\n"
   ]
  },
  {
   "cell_type": "code",
   "execution_count": 35,
   "metadata": {},
   "outputs": [],
   "source": [
    "# llm = Ollama(model=\"llama3.2-vision:11b\", request_timeout=360.0)\n",
    "# embeding_model = HuggingFaceEmbedding(model_name=\"BAAI/bge-m3\")"
   ]
  },
  {
   "cell_type": "markdown",
   "metadata": {},
   "source": [
    "Settings"
   ]
  },
  {
   "cell_type": "code",
   "execution_count": 36,
   "metadata": {},
   "outputs": [],
   "source": [
    "storage= 'storage'"
   ]
  },
  {
   "cell_type": "code",
   "execution_count": 37,
   "metadata": {},
   "outputs": [
    {
     "name": "stderr",
     "output_type": "stream",
     "text": [
      "<All keys matched successfully>\n"
     ]
    }
   ],
   "source": [
    "from llama_index.core import Settings\n",
    "\n",
    "embedding = HuggingFaceEmbedding(\n",
    "    model_name=\"nomic-ai/nomic-embed-text-v1.5\", \n",
    "    trust_remote_code=True,\n",
    "    query_instruction=\"search_query: \",  # Prefijo para consultas\n",
    "    text_instruction=\"search_document: \"  # Prefijo para documentos\n",
    ")\n",
    "llm=Ollama(model=\"llama3.2:3b\", request_timeout=360.0,temperature=0.1)\n",
    "\n",
    "Settings.embed_model = embedding\n",
    "Settings.llm = llm\n",
    "\n"
   ]
  },
  {
   "cell_type": "markdown",
   "metadata": {},
   "source": [
    "Database"
   ]
  },
  {
   "cell_type": "code",
   "execution_count": 38,
   "metadata": {},
   "outputs": [],
   "source": [
    "from llama_index.core import  VectorStoreIndex, SimpleDirectoryReader, StorageContext, load_index_from_storage\n",
    "import chromadb\n",
    "from llama_index.vector_stores.chroma import ChromaVectorStore\n",
    "\n",
    "documents = SimpleDirectoryReader('documentacion').load_data()\n",
    "\n",
    "db= chromadb.PersistentClient(path=storage)\n",
    "\n",
    "chroma_collection = db.get_or_create_collection('ChatCSV')\n",
    "\n",
    "vector_store = ChromaVectorStore(chroma_collection=chroma_collection)\n",
    "storage_context = StorageContext.from_defaults(vector_store=vector_store)\n",
    "\n",
    "# Creación o carga del índice\n",
    "if not os.path.exists(storage):\n",
    "    # Crear un nuevo índice si no existe almacenamiento previo\n",
    "    index = VectorStoreIndex.from_documents(\n",
    "        documents, \n",
    "        embedding=embedding, \n",
    "        llm=llm, \n",
    "        show_progress=True, \n",
    "        storage_context=storage_context\n",
    "    )\n",
    "    # Guardar índice\n",
    "    index.storage_context.persist(storage)\n",
    "else:\n",
    "    # Cargar índice existente\n",
    "    index = VectorStoreIndex.from_vector_store(\n",
    "        vector_store, \n",
    "        embedding=embedding, \n",
    "        llm=llm, \n",
    "        show_progress=True, \n",
    "        storage_context=storage_context\n",
    "    )"
   ]
  },
  {
   "cell_type": "code",
   "execution_count": 39,
   "metadata": {},
   "outputs": [],
   "source": [
    "qa_prompt_str = (\n",
    "    \"La informacion proveniente de la documentacion es la siguiente.\\n\"\n",
    "    \"---------------------\\n\"\n",
    "    \"{context_str}\\n\"\n",
    "    \"---------------------\\n\"\n",
    "    \"Dado la informacion brindada en la documentacion, y no tu conocimiento a priori,\"\n",
    "    \"Responde la pregunta del operador: {query_str}\\n\"\n",
    ")\n",
    "\n",
    "refine_prompt_str = (\n",
    "    \"Tenemos la oportunidad de refinar la respuesta original \"\n",
    "    \"(solo si es necesario) con mas documentacion debajo.\\n\"\n",
    "    \"------------\\n\"\n",
    "    \"{context_msg}\\n\"\n",
    "    \"------------\\n\"\n",
    "    \"Dado la nueva documentacion, Refina la respuesta original para mejor \"\n",
    "    \"respondiendo la pregunta: {query_str}. \"\n",
    "    \"Si el contexto no es util, devuelve la respuesta original.\\n\"\n",
    "    \"Respuesta original: {existing_answer}\"\n",
    ")"
   ]
  },
  {
   "cell_type": "code",
   "execution_count": 40,
   "metadata": {},
   "outputs": [],
   "source": [
    "from llama_index.core import ChatPromptTemplate\n",
    "\n",
    "# Text QA Prompt\n",
    "chat_text_qa_msgs = [\n",
    "    (\n",
    "        \"system\",\n",
    "        \"\"\"El asistente es ChatCSV, Creado por Mera Solutions.\n",
    "        \n",
    "        Si se presenta un problema matematico, de logia o otro problema proveniente de pensamiento sistematico, ChatCSV piensa a traves de paso a paso antes de dar una respuesta final\n",
    "        \n",
    "        Si ChatCSV es consultado de una persona en especifico, este indicara que no posee informacion de personas individuales\n",
    "        \n",
    "        ChatCSV es curioso y en caso de no entender poder responder la pregunta, piden que se la reformulen\n",
    "        \n",
    "        ChatCSV entiende que hay cosas que no sabe y avisa de lo mismo,\n",
    "        \n",
    "        ChatCSV esta recibiendo contexto mediante RAG\n",
    "        \n",
    "        ChatCSV siempre brindara la URL indicado en la documentacion al operador\n",
    "        \n",
    "        ChatCSV siempre respondera en español, usando la informacion brindada en la documentacion\n",
    "        \n",
    "        ChatCSV se encarga de ayudar a un operador telefonico del Centro de Servicios Visa, mientras que este atiende a un cliente al telefono, por lo que debe dar respuestas lo mas certeras posibles, faciles de leer y concretas para que el operador pueda dar una respuesta al cliente\n",
    "        \n",
    "        ChatCSV esta siendo conectado con el humano\"\"\",\n",
    "    ),\n",
    "    (\"user\", qa_prompt_str),\n",
    "]\n",
    "text_qa_template = ChatPromptTemplate.from_messages(chat_text_qa_msgs)\n",
    "\n",
    "# Refine Prompt\n",
    "chat_refine_msgs = [\n",
    "    (\n",
    "        \"system\",\n",
    "        \"\"\"El asistente es ChatCSV, Creado por Mera Solutions.\n",
    "        \n",
    "        Si se presenta un problema matematico, de logia o otro problema proveniente de pensamiento sistematico, ChatCSV piensa a traves de paso a paso antes de dar una respuesta final\n",
    "        \n",
    "        Si ChatCSV es consultado de una persona en especifico, este indicara que no posee informacion de personas individuales\n",
    "        \n",
    "        ChatCSV es curioso y en caso de no entender poder responder la pregunta, piden que se la reformulen\n",
    "        \n",
    "        ChatCSV entiende que hay cosas que no sabe y avisa de lo mismo,\n",
    "        \n",
    "        ChatCSV esta recibiendo contexto mediante RAG        \n",
    "        \n",
    "        ChatCSV siempre brindara la URL indicado en la documentacion al operador\n",
    "        \n",
    "        ChatCSV siempre respondera en español, usando la informacion brindada en la documentacion\n",
    "        \n",
    "        ChatCSV se encarga de ayudar a un operador telefonico del Centro de Servicios Visa, mientras que este atiende a un cliente al telefono, por lo que debe dar respuestas lo mas certeras posibles, faciles de leer y concretas para que el operador pueda dar una respuesta al cliente\n",
    "        \n",
    "        ChatCSV esta siendo conectado con el humano\"\"\",\n",
    "    ),\n",
    "    (\"user\", refine_prompt_str),\n",
    "]\n",
    "refine_template = ChatPromptTemplate.from_messages(chat_refine_msgs)\n"
   ]
  },
  {
   "cell_type": "code",
   "execution_count": 41,
   "metadata": {},
   "outputs": [],
   "source": [
    "\n",
    "query_engine = index.as_query_engine(\n",
    "        text_qa_template=text_qa_template,\n",
    "        refine_template=refine_template,\n",
    "        llm=llm,\n",
    "        response_mode='refine'\n",
    "    )\n",
    "\n"
   ]
  },
  {
   "cell_type": "code",
   "execution_count": 42,
   "metadata": {},
   "outputs": [
    {
     "data": {
      "text/markdown": [
       "**`Final Response:`** **Procedimiento para solicitar una tarjeta de reposición y cómo proceder si el cliente dice que no llegó la tarjeta**\n",
       "\n",
       "Si un cliente te informa que no ha recibido su tarjeta de reposición, es importante recordarle que la tarjeta se generó automáticamente según las condiciones establecidas por el banco emisor. En este caso, hay algunas posibles razones para que la tarjeta no haya sido enviada:\n",
       "\n",
       "1. **Bloqueo temporal**: Es posible que el sistema haya bloqueado temporalmente la tarjeta debido a una denuncia o incidente relacionado con la tarjeta.\n",
       "2. **Problemas de envío**: El sistema puede haber tenido problemas para enviar la tarjeta, lo que podría estar causado por un error en el sistema o problemas técnicos.\n",
       "\n",
       "**Paso 1: Verificar si hay mensajes presionar F22**\n",
       "\n",
       "Pregúntale al cliente si ha visto alguna pantalla con la leyenda \"HAY MENSAJES PRESIONE F22\". Esto podría indicar que hay algún mensaje importante que necesita ser atendido.\n",
       "\n",
       "**Paso 2: Comunica con el banco emisor**\n",
       "\n",
       "Es fundamental que el cliente se comunique con su banco emisor para obtener más información sobre la situación de su tarjeta y proceder con la reposición, si es necesario. El cliente puede contactar al banco emisor a través del número de teléfono o correo electrónico proporcionado en la documentación.\n",
       "\n",
       "**Paso 3: Registrar en el campo \"Observaciones\"**\n",
       "\n",
       "Si el sistema permite, asegúrate de registrar en el campo \"Observaciones\" que la tarjeta se generó automáticamente según las condiciones establecidas por el banco emisor.\n",
       "\n",
       "**Página web del GPS**\n",
       "\n",
       "La página web del GPS es:\n",
       "\n",
       "https://gps.prismamediosdepago.com/Lists/Novedades/DispForm.aspx?ID=22727\n",
       "\n",
       "**Documentación**\n",
       "\n",
       "La documentación completa se encuentra en el archivo de la siguiente ubicación:\n",
       "\n",
       "file_path: c:\\Users\\io6723\\Desktop\\ChatCSV\\documentacion\\Novedades - TARJETA DE REPOSICION - CARACTERISTICAS -....txt\n",
       "\n",
       "Espero que esta información te sea útil. Si tienes alguna otra pregunta o necesitas más ayuda, no dudes en preguntar.\n",
       "\n",
       "**Nota:** Si el contexto no es util para responder la pregunta del cliente, se devolverá la respuesta original."
      ],
      "text/plain": [
       "<IPython.core.display.Markdown object>"
      ]
     },
     "metadata": {},
     "output_type": "display_data"
    }
   ],
   "source": [
    "response = query_engine.query('¿Cómo procedo si el cliente me dice que no le llegó la tarjeta de reposición? Me puedes dar su pagina en gps')\n",
    "display_response(response)\n"
   ]
  },
  {
   "cell_type": "markdown",
   "metadata": {},
   "source": [
    "Contexto utilizado"
   ]
  },
  {
   "cell_type": "code",
   "execution_count": 43,
   "metadata": {},
   "outputs": [
    {
     "name": "stdout",
     "output_type": "stream",
     "text": [
      "XXXXXXXXXXXXXXXXXXXXXXXXXXXXXXXXXXXXXXXXXXXXXXXXXX\n",
      "URL: https://gps.prismamediosdepago.com/Lists/Novedades/DispForm.aspx?ID=22727\n",
      "\n",
      "Existen otros motivos (ajenos al estado de la tarjeta) que provocan que no se genere una tarjeta de reposición: estas situaciones están definidas por el banco emisor.Ante la denuncia de una tarjeta que no deba ser repuesta por definición bancaria, luego de completar los datos del bloqueo, el sistema no mostrará la pantalla de \"Alta de reposición\" sino que permanecerá en la 1° pantalla y mostrarála leyenda:\"HAY MENSAJES PRESIONE F22\"El socio debería contactarse con su banco para gestionar la reposición.Speech:Sr. la reposición queda pendiente, comuníquese con su banco para poder gestionarla.Importante:en el campo \"Observaciones\" registrar SIN REPO POR DEFINICIÓN DEL BANCO.​\n",
      "XXXXXXXXXXXXXXXXXXXXXXXXXXXXXXXXXXXXXXXXXXXXXXXXXX\n",
      "URL: https://gps.prismamediosdepago.com/Lists/Novedades/DispForm.aspx?ID=22716\n",
      "\n",
      "GENERAR LA TARJETA DE REPOSICIÓNAl momento de bloquear una tarjeta, el sistema emitirá automáticamente una nueva tarjetasiempre y cuando se cumplan las siguientes condiciones:* Que el pago mínimo anterior esté abonado en tiempo y forma.* Que la cuenta no se encuentre excedida.* Que la tarjeta no pertenezca al BIN 451275* Que la tarjeta no esté vencida.* Que antes de la denuncia, la cuenta se encuentren en estado normal (10).* Que antes de la denuncia la tarjetanoesté pendiente de habilitación (estado 20-PA, PR, PV, etc.)CARACTERÍSTICAS DE UNA TARJETA DE REPOSICIÓNREPOSICIONSe genera en forma automática por inhabilitación F1, siempre que la cuenta cumpla con las condiciones.Cambia elnúmero de tarjeta.Se modifica la fecha de Vigencia.Conserva la fecha de Vencimiento.Se modifica el Código de Seguridad para realizar transacciones.CARGO POR REPOSICIÓN / EXTRAVÍOIngreso a la pantalla de bloqueo: desde la pantalla \"Tarjetas de la Cuenta\" -> marcar con \"x\" la tarjeta a bloquear + F4 + F5Si el banco emisor ha definido algún cargo por la gestión, la pantalla lo mostrará en el margen superior derecho (debajo del código de problema).¿En concepto de que cobran el cargo?§Cargo por Reposición (C.R.): el cargo corresponde a la emisión de un nuevo plástico +  cobertura ante el ingreso de consumos no genuinos (no realizados por el socio).§Cargo por Extravío (C.E.): el cargo cubre ante eventuales consumos no genuinos (no efectuados por el socio).Ejemplos:El cargo de la reposición y/o extravío será informado al titular de tarjeta o cuenta (no al tercero);y se le indicará que dicho cargo lo verá cobrado en el siguiente resumen.Nota: si el socio rechazara el cargo por robo/ extravío -> proceder según se indica enRechazo del cargo por Extravío - Reposición​​\n"
     ]
    }
   ],
   "source": [
    "for _ in response.source_nodes:\n",
    "    print('X'*50)\n",
    "    print(_.text)"
   ]
  }
 ],
 "metadata": {
  "kernelspec": {
   "display_name": ".venv",
   "language": "python",
   "name": "python3"
  },
  "language_info": {
   "codemirror_mode": {
    "name": "ipython",
    "version": 3
   },
   "file_extension": ".py",
   "mimetype": "text/x-python",
   "name": "python",
   "nbconvert_exporter": "python",
   "pygments_lexer": "ipython3",
   "version": "3.12.4"
  }
 },
 "nbformat": 4,
 "nbformat_minor": 2
}
