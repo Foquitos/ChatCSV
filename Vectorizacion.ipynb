{
 "cells": [
  {
   "cell_type": "code",
   "execution_count": 2,
   "metadata": {},
   "outputs": [],
   "source": [
    "from llama_index.core import Settings\n",
    "from llama_index.core.response.notebook_utils import display_response\n",
    "from llama_index.llms.ollama import Ollama\n",
    "from llama_index.embeddings.huggingface import HuggingFaceEmbedding\n",
    "from llama_index.core.service_context import ServiceContext\n",
    "from llama_index.core.prompts import PromptTemplate\n",
    "import os\n"
   ]
  },
  {
   "cell_type": "code",
   "execution_count": 30,
   "metadata": {},
   "outputs": [],
   "source": [
    "# llm = Ollama(model=\"llama3.2-vision:11b\", request_timeout=360.0)\n",
    "# embeding_model = HuggingFaceEmbedding(model_name=\"BAAI/bge-m3\")"
   ]
  },
  {
   "cell_type": "markdown",
   "metadata": {},
   "source": [
    "Settings"
   ]
  },
  {
   "cell_type": "code",
   "execution_count": 3,
   "metadata": {},
   "outputs": [],
   "source": [
    "storage= 'storage'"
   ]
  },
  {
   "cell_type": "code",
   "execution_count": 9,
   "metadata": {},
   "outputs": [],
   "source": [
    "from llama_index.core import Settings\n",
    "\n",
    "Settings.embed_model = HuggingFaceEmbedding(model_name=\"BAAI/bge-m3\")\n",
    "Settings.llm = Ollama(model=\"llama3.2:3b\", request_timeout=360.0,temperature=0.1)\n",
    "\n",
    "#\n"
   ]
  },
  {
   "cell_type": "markdown",
   "metadata": {},
   "source": [
    "Database"
   ]
  },
  {
   "cell_type": "code",
   "execution_count": 6,
   "metadata": {},
   "outputs": [],
   "source": [
    "from llama_index.core import  VectorStoreIndex, SimpleDirectoryReader, StorageContext, load_index_from_storage\n",
    "import chromadb\n",
    "from llama_index.vector_stores.chroma import ChromaVectorStore\n",
    "\n",
    "documents = SimpleDirectoryReader('documentacion').load_data()\n",
    "\n",
    "db= chromadb.PersistentClient(path=storage)\n",
    "\n",
    "chroma_collection = db.get_or_create_collection('ChatCSV')\n",
    "\n",
    "vector_store = ChromaVectorStore(chroma_collection=chroma_collection)\n",
    "storage_context = StorageContext.from_defaults(vector_store=vector_store)\n",
    "\n",
    "if not os.path.exists(storage):\n",
    "    index = VectorStoreIndex.from_documents(documents,show_progress=True, storage_context=storage_context)\n",
    "else:\n",
    "    index = VectorStoreIndex.from_vector_store(vector_store,show_progress=True, storage_context=storage_context)\n"
   ]
  },
  {
   "cell_type": "code",
   "execution_count": 7,
   "metadata": {},
   "outputs": [],
   "source": [
    "\n",
    "query_engine = index.as_query_engine()\n",
    "\n"
   ]
  },
  {
   "cell_type": "code",
   "execution_count": 13,
   "metadata": {},
   "outputs": [],
   "source": [
    "template = (\n",
    "    \"Dado el contexto que te proporcionare responde las preguntas, asi como como debo proceder \\n\"\n",
    "    \"Contexto:\\n\"\n",
    "    \"################################\\n\"\n",
    "    \"{context_str}\"\n",
    "    \"################################\\n\"\n",
    "    \"Responde en español como siendo un ayudante para un operador telefonico del Centro de Servicios Visa: {query_str}\\n\"\n",
    ")\n",
    "qa_template = PromptTemplate(template)\n",
    "query_engine.update_prompts(\n",
    "    {\"response_synthesizer:text_qa_template\": qa_template}\n",
    ")"
   ]
  },
  {
   "cell_type": "code",
   "execution_count": 14,
   "metadata": {},
   "outputs": [
    {
     "data": {
      "text/markdown": [
       "**`Final Response:`** Entiendo el contexto. Si el socio realiza un IP básico (IP NO OK) de manera incorrecta, debes seguir estos pasos:\n",
       "\n",
       "**Paso 1: Verificar la situación**\n",
       "\n",
       "* Revisa si el socio ya había ingresado desde el IVR como IPB NO OK y si las preguntas de reemplazo fueron realizadas correctamente.\n",
       "* Si es así, toma como válida la IP.\n",
       "\n",
       "**Paso 2: Realizar un nuevo módulo de IP (opción a)**\n",
       "\n",
       "* Si el socio no ha ingresado desde el IVR como IPB NO OK o si las preguntas de reemplazo no fueron realizadas correctamente, debes realizar un nuevo módulo de IP.\n",
       "* Esto significa que el operador debe solicitar al socio que realice una nueva verificación de la IP.\n",
       "\n",
       "**Paso 3: Verificar la pregunta del Código de Cuarta Línea**\n",
       "\n",
       "* Antes de realizar el nuevo módulo de IP, verifica si el socio respondió correctamente a la pregunta del Código de Cuarta Línea.\n",
       "* Si no lo hizo correctamente, no se realiza un nuevo módulo de IP y se considera como IP NO OK (fin de la gestión).\n",
       "\n",
       "**Paso 4: Reemplazar preguntas ya realizadas**\n",
       "\n",
       "* Si el segundo módulo de verificación arroja una pregunta que ya fue realizada en el primer módulo, reemplaza por las preguntas de reemplazo de IPB NO OK (en el IVR o por operador).\n",
       "\n",
       "**Paso 5: Continuar con la gestión habitual**\n",
       "\n",
       "* Si el socio supera la IP, continúa con la gestión habitual.\n",
       "\n",
       "**Paso 6: Procedimiento de IP NO OK para socios UP Scale y Vip**\n",
       "\n",
       "* Si el socio no supera la IP, debes seguir el procedimiento de IP NO OK para socios UP Scale y Vip (generar el caso Telesoft sin marca S).\n",
       "\n",
       "Recuerda que es importante verificar cada paso cuidadosamente para asegurarte de que se sigan las instrucciones correctas. ¿Necesitas ayuda adicional?"
      ],
      "text/plain": [
       "<IPython.core.display.Markdown object>"
      ]
     },
     "metadata": {},
     "output_type": "display_data"
    }
   ],
   "source": [
    "response= query_engine.query('Que debo hacer si el socio realiza un Ip basico mal? Piensa paso a paso tu respuesta')\n",
    "display_response(response)"
   ]
  },
  {
   "cell_type": "markdown",
   "metadata": {},
   "source": [
    "Contexto utilizado"
   ]
  },
  {
   "cell_type": "code",
   "execution_count": 12,
   "metadata": {},
   "outputs": [
    {
     "name": "stdout",
     "output_type": "stream",
     "text": [
      "XXXXXXXXXXXXXXXXXXXXXXXXXXXXXXXXXXXXXXXXXXXXXXXXXX\n",
      "URL: https://gps.prismamediosdepago.com/Lists/Novedades/DispForm.aspx?&ID=27876\n",
      "\n",
      "9. IP NO OKAnteIP NO OK se debe aplicar el siguiente procedimiento:-IP NO OK Y TODAS LAS SITUACIONESQUE APLICA MARCA S​​Recordá que para aplicar marca S deberás ingresar en Host desde Menú Principal a opción 6 + 1 + opción 11.Nota: ante IP NO OK no se debe llamar al CAR.SITUACIONES PARTICULARES​RESPUESTA DE TERCEROSNovedadIP NO OK - RESPUESTA DE TERCEROS​.USUARIO VSG O EXT​Gestiones en tarjetas conMARCA S / MARCA A / MARCA L - USUARIO VSG O EXT​.​​TARJETAS SIGNATURE O TARJETAS (CUALQUIER PRODUCTO) CON MARCA I VIP DE 998 O 999 DÍAS​​Para tarjetasSIGNATUREo para tarjetas (cualquier producto) conMARCA I VIP de 998 o 999 días, si el sociono superala IP (IP NO OK) realizá la siguiente gestión:a) Realizá un nuevo módulo de IP(*).(*)Excepción: si el socio respondió de forma incorrecta la pregunta del Código de Cuarta Línea, no se realiza un nuevo módulo de IP y se considera como IP no Ok (fin de la gestión).Aclaraciones:- Si el segundo módulo de verificación arroja una pregunta que ya fue realizada en el primer módulo, reemplazá por las preguntas de reemplazo deIPB NO OK (EN EL IVR O POR OP​ERADOR)​.- Si el socio ya había ingresa​do desde el IVR comoIPB NO OK, se le realizaron las preguntas de reemplazo y las superó\n",
      "correctamente, se toma como válida la IP.b) Si el sociosuperala IP: continuá con la gestión habitual.c) Si el sociono superala IP: continuá con el procedimiento de IP NO OK para socios UP Scale y Vip (generá el caso Telesoft sin marca S).Novedad relacionada:IP NO OK - UP SCALE​.\n"
     ]
    }
   ],
   "source": [
    "for _ in response.source_nodes:\n",
    "    print('X'*50)\n",
    "    print(_.text)"
   ]
  }
 ],
 "metadata": {
  "kernelspec": {
   "display_name": ".venv",
   "language": "python",
   "name": "python3"
  },
  "language_info": {
   "codemirror_mode": {
    "name": "ipython",
    "version": 3
   },
   "file_extension": ".py",
   "mimetype": "text/x-python",
   "name": "python",
   "nbconvert_exporter": "python",
   "pygments_lexer": "ipython3",
   "version": "3.12.4"
  }
 },
 "nbformat": 4,
 "nbformat_minor": 2
}
