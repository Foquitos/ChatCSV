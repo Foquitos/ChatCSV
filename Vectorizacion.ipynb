{
 "cells": [
  {
   "cell_type": "code",
   "execution_count": 1,
   "metadata": {},
   "outputs": [],
   "source": [
    "from llama_index.core import Settings\n",
    "from llama_index.core.response.notebook_utils import display_response\n",
    "from llama_index.llms.ollama import Ollama\n",
    "from llama_index.embeddings.huggingface import HuggingFaceEmbedding\n",
    "from llama_index.core.service_context import ServiceContext\n",
    "from llama_index.core.prompts import PromptTemplate\n",
    "import os\n"
   ]
  },
  {
   "cell_type": "code",
   "execution_count": 30,
   "metadata": {},
   "outputs": [],
   "source": [
    "# llm = Ollama(model=\"llama3.2-vision:11b\", request_timeout=360.0)\n",
    "# embeding_model = HuggingFaceEmbedding(model_name=\"BAAI/bge-m3\")"
   ]
  },
  {
   "cell_type": "markdown",
   "metadata": {},
   "source": [
    "Settings"
   ]
  },
  {
   "cell_type": "code",
   "execution_count": 2,
   "metadata": {},
   "outputs": [],
   "source": [
    "storage= 'storage'"
   ]
  },
  {
   "cell_type": "code",
   "execution_count": 3,
   "metadata": {},
   "outputs": [
    {
     "name": "stderr",
     "output_type": "stream",
     "text": [
      "<All keys matched successfully>\n"
     ]
    }
   ],
   "source": [
    "from llama_index.core import Settings\n",
    "\n",
    "embedding = HuggingFaceEmbedding(\n",
    "    model_name=\"nomic-ai/nomic-embed-text-v1.5\", \n",
    "    trust_remote_code=True,\n",
    "    query_instruction=\"search_query: \",  # Prefijo para consultas\n",
    "    text_instruction=\"search_document: \"  # Prefijo para documentos\n",
    ")\n",
    "llm=Ollama(model=\"llama3.2:3b\", request_timeout=360.0,temperature=0.1)\n",
    "\n",
    "Settings.embed_model = embedding\n",
    "Settings.llm = llm\n",
    "\n"
   ]
  },
  {
   "cell_type": "markdown",
   "metadata": {},
   "source": [
    "Database"
   ]
  },
  {
   "cell_type": "code",
   "execution_count": 5,
   "metadata": {},
   "outputs": [
    {
     "data": {
      "application/vnd.jupyter.widget-view+json": {
       "model_id": "c0bfd55cfb9f4f4cbdb6dd2401643dd1",
       "version_major": 2,
       "version_minor": 0
      },
      "text/plain": [
       "Parsing nodes:   0%|          | 0/1398 [00:00<?, ?it/s]"
      ]
     },
     "metadata": {},
     "output_type": "display_data"
    },
    {
     "data": {
      "application/vnd.jupyter.widget-view+json": {
       "model_id": "4203ef1159354c9e91e5fc2876656538",
       "version_major": 2,
       "version_minor": 0
      },
      "text/plain": [
       "Generating embeddings:   0%|          | 0/1904 [00:00<?, ?it/s]"
      ]
     },
     "metadata": {},
     "output_type": "display_data"
    }
   ],
   "source": [
    "from llama_index.core import  VectorStoreIndex, SimpleDirectoryReader, StorageContext, load_index_from_storage\n",
    "import chromadb\n",
    "from llama_index.vector_stores.chroma import ChromaVectorStore\n",
    "\n",
    "documents = SimpleDirectoryReader('documentacion').load_data()\n",
    "\n",
    "db= chromadb.PersistentClient(path=storage)\n",
    "\n",
    "chroma_collection = db.get_or_create_collection('ChatCSV')\n",
    "\n",
    "vector_store = ChromaVectorStore(chroma_collection=chroma_collection)\n",
    "storage_context = StorageContext.from_defaults(vector_store=vector_store)\n",
    "\n",
    "# Creación o carga del índice\n",
    "if not os.path.exists(storage):\n",
    "    # Crear un nuevo índice si no existe almacenamiento previo\n",
    "    index = VectorStoreIndex.from_documents(\n",
    "        documents, \n",
    "        embedding=embedding, \n",
    "        llm=llm, \n",
    "        show_progress=True, \n",
    "        storage_context=storage_context\n",
    "    )\n",
    "    # Guardar índice\n",
    "    index.storage_context.persist(storage)\n",
    "else:\n",
    "    # Cargar índice existente\n",
    "    index = VectorStoreIndex.from_vector_store(\n",
    "        vector_store, \n",
    "        embedding=embedding, \n",
    "        llm=llm, \n",
    "        show_progress=True, \n",
    "        storage_context=storage_context\n",
    "    )"
   ]
  },
  {
   "cell_type": "code",
   "execution_count": 6,
   "metadata": {},
   "outputs": [],
   "source": [
    "qa_prompt_str = (\n",
    "    \"La informacion proveniente de la documentacion es la siguiente.\\n\"\n",
    "    \"---------------------\\n\"\n",
    "    \"{context_str}\\n\"\n",
    "    \"---------------------\\n\"\n",
    "    \"Dado la informacion brindada en la documentacion, y no tu conocimiento a priori,\"\n",
    "    \"Responde la pregunta del operador: {query_str}\\n\"\n",
    ")\n",
    "\n",
    "refine_prompt_str = (\n",
    "    \"Tenemos la oportunidad de refinar la respuesta original \"\n",
    "    \"(solo si es necesario) con mas documentacion debajo.\\n\"\n",
    "    \"------------\\n\"\n",
    "    \"{context_msg}\\n\"\n",
    "    \"------------\\n\"\n",
    "    \"Dado la nueva documentacion, Refina la respuesta original para mejor \"\n",
    "    \"respondiendo la pregunta: {query_str}. \"\n",
    "    \"Si el contexto no es util, devuelve la respuesta original.\\n\"\n",
    "    \"Respuesta original: {existing_answer}\"\n",
    ")"
   ]
  },
  {
   "cell_type": "code",
   "execution_count": 17,
   "metadata": {},
   "outputs": [],
   "source": [
    "from llama_index.core import ChatPromptTemplate\n",
    "\n",
    "# Text QA Prompt\n",
    "chat_text_qa_msgs = [\n",
    "    (\n",
    "        \"system\",\n",
    "        \"\"\"El asistente es ChatCSV, Creado por Mera Solutions.\n",
    "        \n",
    "        Si se presenta un problema matematico, de logia o otro problema proveniente de pensamiento sistematico, ChatCSV piensa a traves de paso a paso antes de dar una respuesta final\n",
    "        \n",
    "        Si ChatCSV es consultado de una persona en especifico, este indicara que no posee informacion de personas individuales\n",
    "        \n",
    "        ChatCSV es curioso y en caso de no entender poder responder la pregunta, piden que se la reformulen\n",
    "        \n",
    "        ChatCSV entiende que hay cosas que no sabe y avisa de lo mismo,\n",
    "        \n",
    "        ChatCSV esta recibiendo contexto mediante RAG\n",
    "        \n",
    "        ChatCSV siempre brindara la URL indicado en la documentacion al operador\n",
    "        \n",
    "        ChatCSV siempre respondera en español, usando la informacion brindada en la documentacion\n",
    "        \n",
    "        ChatCSV se encarga de ayudar a un operador telefonico del Centro de Servicios Visa, mientras que este atiende a un cliente al telefono, por lo que debe dar respuestas lo mas certeras posibles, faciles de leer y concretas para que el operador pueda dar una respuesta al cliente\n",
    "        \n",
    "        ChatCSV esta siendo conectado con el operador\"\"\",\n",
    "    ),\n",
    "    (\"user\", qa_prompt_str),\n",
    "]\n",
    "text_qa_template = ChatPromptTemplate.from_messages(chat_text_qa_msgs)\n",
    "\n",
    "# Refine Prompt\n",
    "chat_refine_msgs = [\n",
    "    (\n",
    "        \"system\",\n",
    "        \"\"\"El asistente es ChatCSV, Creado por Mera Solutions.\n",
    "        \n",
    "        Si se presenta un problema matematico, de logia o otro problema proveniente de pensamiento sistematico, ChatCSV piensa a traves de paso a paso antes de dar una respuesta final\n",
    "        \n",
    "        Si ChatCSV es consultado de una persona en especifico, este indicara que no posee informacion de personas individuales\n",
    "        \n",
    "        ChatCSV es curioso y en caso de no entender poder responder la pregunta, piden que se la reformulen\n",
    "        \n",
    "        ChatCSV entiende que hay cosas que no sabe y avisa de lo mismo,\n",
    "        \n",
    "        ChatCSV esta recibiendo contexto mediante RAG        \n",
    "        \n",
    "        ChatCSV siempre brindara la URL indicado en la documentacion al operador\n",
    "        \n",
    "        ChatCSV siempre respondera en español, usando la informacion brindada en la documentacion\n",
    "        \n",
    "        ChatCSV se encarga de ayudar a un operador telefonico del Centro de Servicios Visa, mientras que este atiende a un cliente al telefono, por lo que debe dar respuestas lo mas certeras posibles, faciles de leer y concretas para que el operador pueda dar una respuesta al cliente\n",
    "        \n",
    "        ChatCSV esta siendo conectado con el operador\"\"\",\n",
    "    ),\n",
    "    (\"user\", refine_prompt_str),\n",
    "]\n",
    "refine_template = ChatPromptTemplate.from_messages(chat_refine_msgs)\n"
   ]
  },
  {
   "cell_type": "code",
   "execution_count": 18,
   "metadata": {},
   "outputs": [],
   "source": [
    "\n",
    "query_engine = index.as_query_engine(\n",
    "        text_qa_template=text_qa_template,\n",
    "        refine_template=refine_template,\n",
    "        llm=llm,\n",
    "    )\n",
    "\n"
   ]
  },
  {
   "cell_type": "code",
   "execution_count": 21,
   "metadata": {},
   "outputs": [
    {
     "data": {
      "text/markdown": [
       "**`Final Response:`** Lo siento, pero como ChatCSV, no puedo proporcionar asesoramiento específico sobre decisiones comerciales o gestión de marcas. Sin embargo, puedo ofrecerte información general sobre cómo manejar marcas y procedimientos para viajeros.\n",
       "\n",
       "Para realizar una marca S, te recomendaría seguir los siguientes pasos:\n",
       "\n",
       "1.  Verifica si el socio ha realizado el registro de viaje por Mis Tarjetas y tiene una marca S con funcionario SISABIER.\n",
       "2.  Si es así, solicita a la Coordinación levantar la marca S con funcionario Sisabier.\n",
       "3.  Registrar caso Servicio / Servicios para viajeros / Submotivo.\n",
       "4.  Descripción: destino del viaje, aclarando el motivo de la baja de la marca y que no se procedió a registrar marca I.\n",
       "\n",
       "Para obtener más información sobre cómo manejar marcas y procedimientos para viajeros, te recomendaría visitar la página web de VisaHome en [https://gps.prismamediosdepago.com/Lists/Novedades/DispForm.aspx?ID=23696](https://gps.prismamediosdepago.com/Lists/Novedades/DispForm.aspx?ID=23696)"
      ],
      "text/plain": [
       "<IPython.core.display.Markdown object>"
      ]
     },
     "metadata": {},
     "output_type": "display_data"
    }
   ],
   "source": [
    "response= query_engine.query('En que casos debo realizar una marca S? Me puedes dar su pagina en gps')\n",
    "display_response(response)"
   ]
  },
  {
   "cell_type": "markdown",
   "metadata": {},
   "source": [
    "Contexto utilizado"
   ]
  },
  {
   "cell_type": "code",
   "execution_count": 22,
   "metadata": {},
   "outputs": [
    {
     "name": "stdout",
     "output_type": "stream",
     "text": [
      "XXXXXXXXXXXXXXXXXXXXXXXXXXXXXXXXXXXXXXXXXXXXXXXXXX\n",
      "URL: https://gps.prismamediosdepago.com/Lists/Novedades/DispForm.aspx?ID=23696\n",
      "\n",
      "​MARCA INGRESADA POR FUNCIONARIO VSG O EXT(*)(*)VSG / EXT = Funcionario del CAR (Centro de Analistas de Riesgo).​Tipo de MarcaPlazo​Gestión a​ realizar​​A​20 días o más​.Verificá Caso Monitor.- Bloqueá tarjeta si desconoce consumos.- Levantá marca y generá caso deVerificación de Transacciones si reconoce consumos.​A​Menos de 20 días.​S​​Cualquier plazo.​L​​20 díaso más​.L​​Menosde20 días.I​998 / 999 días.No se debe modificar​.Procedé según novedad: ​TARJETAS CON MARCA I - E VIP POR 998 O 999 DÍAS.​En caso de IP OK no se modifica la marca, se debe bloquear F5.​E​998/ 999 días.MARCA INGRESADA POR FUNCIONARIO SISABIER(*)(*)​ SISABIER = Marcas ingresadas por procesos automáticos.Tipo de Marca​​Plazo​​Gestión a realizar​A​180 días.Procedé según novedades:-TARJETA​ MARCA S CON FUNCIONARIO S​ISABIER - PROCEDIMIENTO PARA VIAJEROS-TARJETA MARCA S CON FUNCIONARIO SISABIER - PROCEDIMIENTO PARA CENTRO DE SERVICIOS Y ARRA​​​S​Cualquier plazo.​L​Cualquier plazo.Procedé según novedades:​​-TARJETA​ MARCA S CON FUNCIONARIO S​ISABIER - PROCEDIMIENTO PARA VIAJEROS-TARJETA MARCA S CON FUNCIONARIO SISABIER - PROCEDIMIENTO PARA CENTRO DE SERVICIOS Y ARRA​​​​​I​998 / 999 días.​No se debe modificar​.Procedé según novedad: ​TARJETAS CON MARCA I - E VIP POR 998 O 999 DÍAS.​En caso de IP OK no se modifica la marca, se debe bloquear F5.​​E​​998 /999 días.​​MARCA INGRESADA POR FUNCIONARIO TERAVIP(*)(*)TERAVIP = Marcas ingresadas por procesos automáticos.Tipo de MarcaPlazo​​Gestión a r​ealizarI​​35días.​​Si no cubre el período necesitado por el socio, borrá marcade 35 días y marcá por el plazo correspondiente.MARCA INGRESADA POR FUNCIONARIO VCS / VAU / VAL / VAT / VAX / VCT / VMA(*)MARCA INGRESADA PORFUNCIONARIO IVRSTRAT /IPIVRO / IVR(**)(*)Marcas ingresadas por funcionarios del Centro de Servicios:- VCS / VAU = Prisma.- VAL = Startek (ex Aegis).- VAT = Atento.- VAX = Apex.- VCT = Teleperformance.- VMA = Mera.(**)Marcas ingresadas por procesos automáticos desde IVR.​​​Tipo de MarcaPlazo​Gestión a realiz​ar​S​Cualquier plazo.​​Verificá ​casos Abiertos y procedé según corresponda (Denuncia de terceros, IP NO OK, etc.).​​\n",
      "XXXXXXXXXXXXXXXXXXXXXXXXXXXXXXXXXXXXXXXXXXXXXXXXXX\n",
      "URL: https://gps.prismamediosdepago.com/Lists/Novedades/DispForm.aspx?ID=23762\n",
      "\n",
      "12) MARCA S CON FUNCIONARIO SISABIERSITUACIÓNUn socio realizó el registro de viaje por Mis Tarjetas y tiene una marca S con funcionario SISABIER.GESTIÓNSolicitá a Coordinación levantar la marca S con funcionario Sisabier.No se debe ingresar Marca I.Registrar caso Servicio / Servicios para viajeros / Submotivo.Descripción: destino del viaje, aclarando el motivo de la baja de la marca y que no se procedió a registrar marca I.​Responder al socio, por medio de la siguiente “Respuesta Tipo”:Nos comunicamos con usted respecto al registro de viaje que realizo desde VisaHome, asentado bajo el numero @ideTicket.Ahora, deberá contactarse con su banco emisor para recibir un nuevo plástico y anular el actual.Si se encuentra en el exterior, Visa cuenta con una linea especialmente habilitada a traves de la cual usted puede ser asistido ante cualquier solicitud, reclamo o consulta con respecto a los servicios y beneficios de su tarjeta.Un representante de nuestro Centro de Servicios estara a su disposicion las 24 h., todos los dias del año. Puede comunicarse con la operadora internacional del pais en el que se encuentra y solicitar el cobro revertido de la llamada al:Socios Classic/ Gold/ Commercial:  54-11-4379-3434 Desde Brasil  marcando directamente: 0800-891-8472 Desde E.E.U.U. marcando directamente: 1877-233-8472Socios Platinum: 54-11-4379-6200Desde Brasil  marcando directamente: 0800-761-8472 Desde E.E.U.U. marcando directamente: 1866-341-8472Socios Signature: 54-11- 4378-8300Desde Brasil  marcando directamente: 0800-761-8472 Desde E.E.U.U. marcando directamente: 1866-341-847\n"
     ]
    }
   ],
   "source": [
    "for _ in response.source_nodes:\n",
    "    print('X'*50)\n",
    "    print(_.text)"
   ]
  }
 ],
 "metadata": {
  "kernelspec": {
   "display_name": ".venv",
   "language": "python",
   "name": "python3"
  },
  "language_info": {
   "codemirror_mode": {
    "name": "ipython",
    "version": 3
   },
   "file_extension": ".py",
   "mimetype": "text/x-python",
   "name": "python",
   "nbconvert_exporter": "python",
   "pygments_lexer": "ipython3",
   "version": "3.12.4"
  }
 },
 "nbformat": 4,
 "nbformat_minor": 2
}
