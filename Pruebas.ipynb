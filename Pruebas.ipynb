{
 "cells": [
  {
   "cell_type": "code",
   "execution_count": 1,
   "metadata": {},
   "outputs": [],
   "source": [
    "from sqlalchemy import create_engine\n",
    "from Variables import connection_string\n",
    "from passlib.context import CryptContext\n",
    "import pandas as pd"
   ]
  },
  {
   "cell_type": "code",
   "execution_count": 25,
   "metadata": {},
   "outputs": [],
   "source": [
    "from typing import Optional\n",
    "from pydantic import BaseModel\n"
   ]
  },
  {
   "cell_type": "code",
   "execution_count": 62,
   "metadata": {},
   "outputs": [
    {
     "data": {
      "text/plain": [
       "datetime.datetime(2024, 12, 26, 19, 33, 56, 812839, tzinfo=datetime.timezone.utc)"
      ]
     },
     "execution_count": 62,
     "metadata": {},
     "output_type": "execute_result"
    }
   ],
   "source": [
    "from datetime import datetime, timedelta, timezone  \n",
    "datetime.now(timezone.utc)"
   ]
  },
  {
   "cell_type": "code",
   "execution_count": 2,
   "metadata": {},
   "outputs": [],
   "source": [
    "engine = create_engine(connection_string)\n"
   ]
  },
  {
   "cell_type": "code",
   "execution_count": 56,
   "metadata": {},
   "outputs": [],
   "source": [
    "class User(BaseModel):\n",
    "    usuario: int\n",
    "    Nombre: Optional[str] = None\n",
    "    legajo: Optional[str] = None\n",
    "    password: Optional[str] = None    \n"
   ]
  },
  {
   "cell_type": "code",
   "execution_count": 51,
   "metadata": {},
   "outputs": [],
   "source": [
    "def get_user(documento:int):\n",
    "    df = pd.read_sql(f\"\"\"SELECT\n",
    "        n.documento usuario\n",
    "        ,[password]\n",
    "        ,n.nombre + ' ' + n.apellido Nombre\n",
    "        ,n.legajo\n",
    "    FROM [Mera].[dbo].[passwords] p\n",
    "    right join nomina n on n.id = p.nomina_id\n",
    "    join operadores o on n.id = o.legajo_id and o.fecha_hasta is null and o.estado = 1\n",
    "    where documento = {str(documento)}\"\"\", engine)\n",
    "    \n",
    "    if df.empty == False:\n",
    "        usuario = df.to_dict(orient='records')[0]\n",
    "        return User(**usuario)\n",
    "    else:\n",
    "        return None"
   ]
  },
  {
   "cell_type": "code",
   "execution_count": 59,
   "metadata": {},
   "outputs": [
    {
     "data": {
      "text/plain": [
       "User(usuario=45584955, Nombre='IGNACIO JULIAN OTRANTO', legajo='6723', password=None)"
      ]
     },
     "execution_count": 59,
     "metadata": {},
     "output_type": "execute_result"
    }
   ],
   "source": [
    "get_user(45584955)"
   ]
  }
 ],
 "metadata": {
  "kernelspec": {
   "display_name": ".venv",
   "language": "python",
   "name": "python3"
  },
  "language_info": {
   "codemirror_mode": {
    "name": "ipython",
    "version": 3
   },
   "file_extension": ".py",
   "mimetype": "text/x-python",
   "name": "python",
   "nbconvert_exporter": "python",
   "pygments_lexer": "ipython3",
   "version": "3.12.4"
  }
 },
 "nbformat": 4,
 "nbformat_minor": 2
}
